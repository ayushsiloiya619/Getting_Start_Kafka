{
 "cells": [
  {
   "cell_type": "code",
   "execution_count": null,
   "id": "6dbbc904-7f18-46e2-b9ce-7d86e1917b5e",
   "metadata": {},
   "outputs": [],
   "source": [
    "!pip install kafka-python-ng"
   ]
  },
  {
   "cell_type": "code",
   "execution_count": null,
   "id": "6517ca3e-e488-4be4-b8a3-9a9d78ff069c",
   "metadata": {},
   "outputs": [],
   "source": [
    "from kafka import KafkaProducer, KafkaConsumer\n",
    "from kafka.errors import KafkaError\n",
    "import json\n",
    "\n",
    "producer = KafkaProducer(\n",
    "    bootstrap_servers=['localhost:9092'],\n",
    "    value_serializer=lambda v: json.dumps(v).encode('utf-8')\n",
    ")\n",
    "\n",
    "future = producer.send('test-topic', {'Name': 'Ayush Siloiya'})\n",
    "try:\n",
    "    record_metadata = future.get(timeout=10)\n",
    "except KafkaError as e:\n",
    "    print(f\"Error sending message: {e}\")\n",
    "finally:\n",
    "    producer.close()"
   ]
  }
 ],
 "metadata": {
  "kernelspec": {
   "display_name": "Python 3 (ipykernel)",
   "language": "python",
   "name": "python3"
  },
  "language_info": {
   "codemirror_mode": {
    "name": "ipython",
    "version": 3
   },
   "file_extension": ".py",
   "mimetype": "text/x-python",
   "name": "python",
   "nbconvert_exporter": "python",
   "pygments_lexer": "ipython3",
   "version": "3.12.7"
  }
 },
 "nbformat": 4,
 "nbformat_minor": 5
}
