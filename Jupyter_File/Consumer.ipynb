{
 "cells": [
  {
   "cell_type": "code",
   "execution_count": 1,
   "id": "aeabb4c0-8f66-4ffe-98e9-315ff36dab06",
   "metadata": {},
   "outputs": [],
   "source": [
    "from kafka import KafkaConsumer\n",
    "import json"
   ]
  },
  {
   "cell_type": "code",
   "execution_count": null,
   "id": "578c25cf-c722-4dc8-89b3-319c461ea9af",
   "metadata": {},
   "outputs": [],
   "source": [
    "consumer = KafkaConsumer(\n",
    "    'test-topic',  \n",
    "    bootstrap_servers=['localhost:9092'],  \n",
    "    auto_offset_reset='earliest',  \n",
    "    enable_auto_commit=True,  \n",
    "    value_deserializer=lambda x: x.decode('utf-8') if x else None \n",
    ")\n",
    "\n",
    "for message in consumer:\n",
    "    print(message.value)"
   ]
  }
 ],
 "metadata": {
  "kernelspec": {
   "display_name": "Python 3 (ipykernel)",
   "language": "python",
   "name": "python3"
  },
  "language_info": {
   "codemirror_mode": {
    "name": "ipython",
    "version": 3
   },
   "file_extension": ".py",
   "mimetype": "text/x-python",
   "name": "python",
   "nbconvert_exporter": "python",
   "pygments_lexer": "ipython3",
   "version": "3.12.7"
  }
 },
 "nbformat": 4,
 "nbformat_minor": 5
}
